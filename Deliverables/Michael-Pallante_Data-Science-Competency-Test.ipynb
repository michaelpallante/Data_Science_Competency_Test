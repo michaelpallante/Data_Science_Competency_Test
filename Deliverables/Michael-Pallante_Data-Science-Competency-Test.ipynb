{
 "cells": [
  {
   "cell_type": "markdown",
   "metadata": {},
   "source": [
    "# Name: Michael Pallante\n",
    "# Date: Friday 03/27/2020\n",
    "\n",
    "This test is split into three main sections and involves an SQL question, some programming challenges, and a predictive modelling scenario. \n",
    "There is no time limit, however time taken to complete will be considered. Expectation is around 1 hour but we do prefer complete answers over rushed/skipped questions due to time constraints.\n",
    "\n",
    "Requirements:\n",
    "-\tAccess to a programming language, such as R or Python\n",
    "-\tExcel\n",
    "\n",
    "# Data Science Competency Test"
   ]
  },
  {
   "cell_type": "code",
   "execution_count": 1,
   "metadata": {},
   "outputs": [],
   "source": [
    "#Import libraries\n",
    "import pandas as pd\n",
    "import numpy as np\n",
    "import sqlite3\n",
    "import scipy.stats\n",
    "import seaborn as sns\n",
    "import matplotlib.pyplot as plt\n",
    "%matplotlib inline\n",
    "sns.set(style = \"whitegrid\")\n",
    "pd.options.display.max_columns = 100"
   ]
  },
  {
   "cell_type": "markdown",
   "metadata": {},
   "source": [
    "## Task 1\n",
    "\n",
    "### Please refer to ‘SQL Data.csv’ for part A. Answer the questions inline in the document and feel free to show you working out.\n",
    "\n",
    "#### A.\tWrite a query that shows the most recent deposit method, date, and amount for each ‘Username’."
   ]
  },
  {
   "cell_type": "code",
   "execution_count": 2,
   "metadata": {},
   "outputs": [
    {
     "data": {
      "text/html": [
       "<div>\n",
       "<style scoped>\n",
       "    .dataframe tbody tr th:only-of-type {\n",
       "        vertical-align: middle;\n",
       "    }\n",
       "\n",
       "    .dataframe tbody tr th {\n",
       "        vertical-align: top;\n",
       "    }\n",
       "\n",
       "    .dataframe thead th {\n",
       "        text-align: right;\n",
       "    }\n",
       "</style>\n",
       "<table border=\"1\" class=\"dataframe\">\n",
       "  <thead>\n",
       "    <tr style=\"text-align: right;\">\n",
       "      <th></th>\n",
       "      <th>UserName</th>\n",
       "      <th>DepDate</th>\n",
       "      <th>Method</th>\n",
       "      <th>Amount</th>\n",
       "    </tr>\n",
       "  </thead>\n",
       "  <tbody>\n",
       "    <tr>\n",
       "      <td>0</td>\n",
       "      <td>poker_poker</td>\n",
       "      <td>1/1/17</td>\n",
       "      <td>Card</td>\n",
       "      <td>100</td>\n",
       "    </tr>\n",
       "    <tr>\n",
       "      <td>6</td>\n",
       "      <td>IMALLIN</td>\n",
       "      <td>1/2/17</td>\n",
       "      <td>Card</td>\n",
       "      <td>50</td>\n",
       "    </tr>\n",
       "    <tr>\n",
       "      <td>7</td>\n",
       "      <td>itisproblem</td>\n",
       "      <td>1/2/17</td>\n",
       "      <td>Cheque</td>\n",
       "      <td>65</td>\n",
       "    </tr>\n",
       "    <tr>\n",
       "      <td>2</td>\n",
       "      <td>CheckRaiser</td>\n",
       "      <td>1/3/17</td>\n",
       "      <td>Card</td>\n",
       "      <td>100</td>\n",
       "    </tr>\n",
       "    <tr>\n",
       "      <td>5</td>\n",
       "      <td>Cadillac</td>\n",
       "      <td>1/3/17</td>\n",
       "      <td>Wallet</td>\n",
       "      <td>75</td>\n",
       "    </tr>\n",
       "  </tbody>\n",
       "</table>\n",
       "</div>"
      ],
      "text/plain": [
       "      UserName DepDate  Method  Amount\n",
       "0  poker_poker  1/1/17    Card     100\n",
       "6      IMALLIN  1/2/17    Card      50\n",
       "7  itisproblem  1/2/17  Cheque      65\n",
       "2  CheckRaiser  1/3/17    Card     100\n",
       "5     Cadillac  1/3/17  Wallet      75"
      ]
     },
     "execution_count": 2,
     "metadata": {},
     "output_type": "execute_result"
    }
   ],
   "source": [
    "#Connect to SQL_Data database\n",
    "conn = sqlite3.connect('SQL_Data.db')\n",
    "\n",
    "#Importing SQL_Data Into Pandas\n",
    "players = pd.read_sql_query(\"select * from Players;\", conn)\n",
    "deposits = pd.read_sql_query(\"select * from Deposits;\", conn)\n",
    "\n",
    "#Merging Data Using Pandas\n",
    "sql_data = pd.merge(players, deposits, on = 'PlayerID')\n",
    "sql_data\n",
    "\n",
    "#Show most recent deposit method, date, and amount for each username\n",
    "sql_data = sql_data[['UserName', 'DepDate', 'Method', 'Amount']]\n",
    "sql_data.sort_values(by=\"DepDate\").drop_duplicates(subset=[\"UserName\"], keep=\"last\")"
   ]
  },
  {
   "cell_type": "markdown",
   "metadata": {},
   "source": [
    "#### B.\tAssume the probability of winning a single hand of Blackjack is 42%. If a player was to play 10 hands of Blackjack, what is the probability of winning exactly 7 hands."
   ]
  },
  {
   "cell_type": "code",
   "execution_count": 3,
   "metadata": {},
   "outputs": [
    {
     "data": {
      "text/plain": [
       "0.053977188466420536"
      ]
     },
     "execution_count": 3,
     "metadata": {},
     "output_type": "execute_result"
    }
   ],
   "source": [
    "#Create function to find probability of winning blackjack hands\n",
    "def probability_of_winning_w(n, p, w):\n",
    "    \"\"\"\n",
    "    n = number of hands played\n",
    "    p = probability of winning a hand\n",
    "    w = number of hands won\n",
    "    \n",
    "    Use np.factorial()\n",
    "    \n",
    "    \"\"\"\n",
    "    \n",
    "    # defining a helper function for factorial\n",
    "    def fact(n):\n",
    "        return np.math.factorial(n)\n",
    "    \n",
    "    return (fact(n)/(fact(w)*fact(n-w)))*(p**(w))*((1-p)**(n-w))\n",
    "\n",
    "#Entering values of n (number of hands played), p (probability of winning a hand), and w (number of hands won)\n",
    "n = 10\n",
    "p = 0.42\n",
    "w = 7\n",
    "\n",
    "#Find probability of winning exactly 7 hands out of 10 hands played\n",
    "probability_of_winning_w(n, p, w)"
   ]
  },
  {
   "cell_type": "markdown",
   "metadata": {},
   "source": [
    "#### C.\tA factory produces decks of playing cards and has an automated test to flag faulty products for further inspection. Consider the following statistics:\n",
    "\n",
    "-\t1% of all decks are faulty.\n",
    "-\t90% of faulty decks test positive.\n",
    "-\tThe test incorrectly flags 5% of non-faulty decks as being faulty\n",
    "\n",
    "#### Suppose you get a positive result from the test, what is the probability of the deck being faulty?"
   ]
  },
  {
   "cell_type": "code",
   "execution_count": 4,
   "metadata": {},
   "outputs": [
    {
     "data": {
      "text/plain": [
       "0.15384615384615385"
      ]
     },
     "execution_count": 4,
     "metadata": {},
     "output_type": "execute_result"
    }
   ],
   "source": [
    "#Enter given values from above\n",
    "prob_a = 0.01\n",
    "prob_b_given_a = 0.90\n",
    "prob_b = (prob_a * prob_b_given_a) + (0.99 * 0.05)\n",
    "\n",
    "#Find the probability of the deck being faulty using Bayes Theorem\n",
    "prob_a_given_b = (prob_a * prob_b_given_a) / prob_b\n",
    "prob_a_given_b"
   ]
  },
  {
   "cell_type": "markdown",
   "metadata": {},
   "source": [
    "## Task 2\n",
    "\n",
    "### Please complete using a programming language, preferably Python or R. Provide your answers inline in the document. In addition, please provide your script in a separate file.\n",
    "\n",
    "#### Refer to ‘Test_Data.csv’ for this exercise, and also Task 3. Details of this data are as follows:\n",
    "\n",
    "-\tThe data is a daily snapshot of 5000 customers.\n",
    "-\t‘Activity’ signifies whether the customer remained active (or churned) within the next n days.\n",
    "-\tFields X1-X10 contain Poker data for various time intervals.\n",
    "-\tFields X11-X20 contain Casino data for various time intervals.\n",
    "-\tFields X21-X30 contain Sports Book data for various time intervals.\n",
    "\n",
    "#### Please carry out the following operation, and provide answers if requested."
   ]
  },
  {
   "cell_type": "code",
   "execution_count": 5,
   "metadata": {},
   "outputs": [],
   "source": [
    "#Import Test_Data\n",
    "test_data = pd.read_csv('Test_Data.csv')"
   ]
  },
  {
   "cell_type": "markdown",
   "metadata": {},
   "source": [
    "#### A.\tCalculate the mean and 95% confidence interval for X2."
   ]
  },
  {
   "cell_type": "code",
   "execution_count": 6,
   "metadata": {},
   "outputs": [
    {
     "data": {
      "text/plain": [
       "312.02424874964004"
      ]
     },
     "execution_count": 6,
     "metadata": {},
     "output_type": "execute_result"
    }
   ],
   "source": [
    "#Calculate the mean for X2\n",
    "test_data['X2'].mean()"
   ]
  },
  {
   "cell_type": "code",
   "execution_count": 7,
   "metadata": {},
   "outputs": [
    {
     "data": {
      "text/plain": [
       "(310.47165323060443, 313.57684426867564)"
      ]
     },
     "execution_count": 7,
     "metadata": {},
     "output_type": "execute_result"
    }
   ],
   "source": [
    "#Create function to calculate the 95% confidence interval for X2\n",
    "\n",
    "def confidence_interval(data, confidence=0.95):\n",
    "    a = 1.0 * np.array(data)\n",
    "    n = len(a)\n",
    "    m, se = np.mean(a), scipy.stats.sem(a)\n",
    "    h = se * scipy.stats.t.ppf((1 + confidence) / 2., n-1)\n",
    "    return m-h, m+h\n",
    "\n",
    "#Calculate the 95% confidence interval for X2\n",
    "confidence_interval(test_data['X2'], confidence=0.95)"
   ]
  },
  {
   "cell_type": "markdown",
   "metadata": {},
   "source": [
    "#### B. Provide a histogram plot of X5 and describe the distribution."
   ]
  },
  {
   "cell_type": "code",
   "execution_count": 8,
   "metadata": {
    "scrolled": true
   },
   "outputs": [
    {
     "data": {
      "text/plain": [
       "Text(0.5, 1.0, 'Histogram Plot of X5')"
      ]
     },
     "execution_count": 8,
     "metadata": {},
     "output_type": "execute_result"
    },
    {
     "data": {
      "image/png": "[encoded data removed]",
      "text/plain": [
       "<Figure size 432x288 with 1 Axes>"
      ]
     },
     "metadata": {},
     "output_type": "display_data"
    }
   ],
   "source": [
    "#Create histogram plot of X5\n",
    "\n",
    "sns.set_style('darkgrid')\n",
    "sns.distplot(test_data['X5'])\n",
    "plt.xlabel('Days')\n",
    "plt.ylabel('Probability')\n",
    "plt.title('Histogram Plot of X5')"
   ]
  },
  {
   "cell_type": "markdown",
   "metadata": {},
   "source": [
    "The histogram plot of X5 shows a right-skewed distribution, which also means that the distribution is positively skewed."
   ]
  },
  {
   "cell_type": "markdown",
   "metadata": {},
   "source": [
    "#### C. Identify the missing values (column names + indices)."
   ]
  },
  {
   "cell_type": "code",
   "execution_count": 9,
   "metadata": {
    "scrolled": false
   },
   "outputs": [
    {
     "data": {
      "text/plain": [
       "Activity    0\n",
       "Country     0\n",
       "X1          0\n",
       "X2          0\n",
       "X3          3\n",
       "X4          0\n",
       "X5          0\n",
       "X6          0\n",
       "X7          1\n",
       "X8          0\n",
       "X9          1\n",
       "X10         0\n",
       "X11         0\n",
       "X12         0\n",
       "X13         0\n",
       "X14         0\n",
       "X15         0\n",
       "X16         0\n",
       "X17         0\n",
       "X18         0\n",
       "X19         0\n",
       "X20         0\n",
       "X21         0\n",
       "X22         0\n",
       "X23         0\n",
       "X24         0\n",
       "X25         0\n",
       "X26         0\n",
       "X27         0\n",
       "X28         0\n",
       "X29         0\n",
       "X30         0\n",
       "dtype: int64"
      ]
     },
     "execution_count": 9,
     "metadata": {},
     "output_type": "execute_result"
    }
   ],
   "source": [
    "#Calculate the number of missing values within each column\n",
    "test_data.isna().sum()"
   ]
  },
  {
   "cell_type": "code",
   "execution_count": 10,
   "metadata": {
    "scrolled": true
   },
   "outputs": [
    {
     "data": {
      "text/plain": [
       "Int64Index([204, 2345, 4194, 4723, 4798], dtype='int64')"
      ]
     },
     "execution_count": 10,
     "metadata": {},
     "output_type": "execute_result"
    }
   ],
   "source": [
    "test_data.loc[test_data[['X3','X7', 'X9']].isnull().any(1)].index"
   ]
  },
  {
   "cell_type": "markdown",
   "metadata": {},
   "source": [
    "The following columns contain missing values:\n",
    "\n",
    "- X3: 3 missing values\n",
    "- X7: 1 missing value\n",
    "- X9: 1 missing value\n",
    "\n",
    "The indices containing missing values include:\n",
    "\n",
    "- 204\n",
    "- 2345\n",
    "- 4194\n",
    "- 4723\n",
    "- 4798"
   ]
  },
  {
   "cell_type": "markdown",
   "metadata": {},
   "source": [
    "#### D. Replace the ‘Country’ column with dummy variables."
   ]
  },
  {
   "cell_type": "code",
   "execution_count": 11,
   "metadata": {},
   "outputs": [],
   "source": [
    "#Create Country dummy variables\n",
    "country_dummies = pd.get_dummies(test_data['Country'])\n",
    "\n",
    "#Append Country dummy variables to Test_Data, creating new Test_Data dataframe called Test_Data_New\n",
    "test_data_new = pd.concat([test_data, country_dummies], axis = 1)\n",
    "\n",
    "#Remove original Country variable from new Test_Data, creating final Test_Data dataframe called Test_Data_Final\n",
    "test_data_final = test_data_new.drop(['Country'], axis = 1)"
   ]
  },
  {
   "cell_type": "markdown",
   "metadata": {},
   "source": [
    "#### E. Provide a function that takes an integer and outputs ‘Poker’ if divisible by 3, ‘Stars’ if divisible by 5, and ’Pokerstars’ otherwise."
   ]
  },
  {
   "cell_type": "code",
   "execution_count": 12,
   "metadata": {},
   "outputs": [],
   "source": [
    "#Create above function\n",
    "def int_function(i):\n",
    "        if i % 3 == 0:\n",
    "            return(\"Poker\")\n",
    "        if i % 5 == 0:\n",
    "            return(\"Stars\")\n",
    "        else: \n",
    "            return(\"Pokerstars\")"
   ]
  },
  {
   "cell_type": "markdown",
   "metadata": {},
   "source": [
    "## Task 3\n",
    "\n",
    "### Please outline the steps you would take to build a model to predict ‘Activity’. No coding or analysis is expected in this question, it is purely theoretical. Consider the following points:"
   ]
  },
  {
   "cell_type": "markdown",
   "metadata": {},
   "source": [
    "#### How you would explore the data.\n",
    "\n",
    "- Exploratory Data Analysis is key in providing us a greater understanding of our data before the modelling phase and should give us some initial inclinations and assumptions regarding our data. Reviewing statistics and visualizations of the data help with initial interpretation of our data. \n",
    "- We would take into consideration all possible details and given information that we know about the dataset already. For example, we know the data contains 5000 total observations. We know that if we are building a model to predict Activity that Activity is our response variable. We also know that variables X1-X10 represent Poker data, variables X11-X20 represent Casino data, and variables X21-X30 represent Sports Book data. Additionally, we know which Country the customers are betting from. These variables must all be considered as possible feature variables to be used within our model.\n",
    "- We check the dataset for missing data.\n",
    "- We check the descriptive statistics of the data: mean, minimum, maximum, standard deviation. We should check for outliers as well. Extreme outliers need ot be taken note of. We can create some visualizations to aid us in seeing what the data looks like and check the variance of our data.\n",
    "- We consider the data types within the dataset. Activity and Country are categorical variables, while all other variables are numerical and include float values. For Activity in particular, this is important to note because given that it is a categorical variable, this will influence the type of model we use. We also need to understand our response variable-- we note that if a customer remained active, they are classified as a 1, while customers who did not remain active are classified as a 0.\n",
    "- We also see something that may require further inspection and possibly more of an explanation: there are many 0 values within our numerical variables as well. It would be wise to gather more details on this so we know how to proceed with this data. It would also be nice if we had further explanation of each of our X variables to aid our interpretation.\n",
    "- We can review correlaton matrices to determine what to do with correlated variables.\n",
    "- We can check the distribution plots of our variables for linearity and skewness.\n",
    "- We use the above methods to determine feature selection. We can also consider feature selection methods such as recursive feature elimination, which removes the weakest features of our model for us. However this does not test all of our models so using this method after narrowing down to just a few models might be a better idea."
   ]
  },
  {
   "cell_type": "markdown",
   "metadata": {},
   "source": [
    "#### How you would prepare the data.\n",
    "\n",
    "- We need to ensure that our data is cleaned and transformed where necessary prior to modelling.\n",
    "- We need to decide what to do with our missing data. Fortunately in this case, there are very few missing values within our dataset. We still need to decide whether or not we will be using imputation methods or if we are removing this data entirely. Both approaches could be justified given how few missing values we have. If we consider this data to be valuable to our evaluation of Activity, then we should impute these missing values. We could use regression imputation that uses our existing dataset to predict what those values might have been. This maintains a randomness factor that mean or median imputation cannot do. It is a more time consuming approach, but might lend to better accuracy. If time is a major consideration, mean or median imputation could be considered. If we don't mind excluding a few observations from our analysis, then removing the missing values altogether is fine, as there are so few and we would not be adding bias to our dataset.\n",
    "- We need to decide whether or not we need to perform any data transformations. In this particular case, it makes sense to 'dummy' the Country variable since it is a categorical variable and there are multiple different countries included. Giving each country their own unique variable helps gives us a few more features for our model and could also lend to improved accuracy."
   ]
  },
  {
   "cell_type": "markdown",
   "metadata": {},
   "source": [
    "#### How you would approach modelling.\n",
    "\n",
    "- Due to the fact that our response variable, Activity, is a categorical variable, we know that we should likely employ a classification model. There are a number of model types we can consider for evaluation purposes. The way I would approach it is that we can build a pipeline that runs a number of models on the dataset all at once. Model types in this case could include logistic regression, random forest, decision trees, ada boost, gradient boosting, KNN, SVC, and Nu-SVC.\n",
    "- Before running our pipeline, if we identify class imbalance with our data, we can consider using SMOTE to address our class imbalance issues.\n",
    "- After running our pipeline, we will be able to see which classification model type offers the best model performance with this specific dataset.\n",
    "- After running our pipeline, we can also consider using GridSearchCV or randomized search CV to improve model performance.\n",
    "- After running our pipeline, we can also consider using hyperparameter tuning to improve model performance."
   ]
  },
  {
   "cell_type": "markdown",
   "metadata": {},
   "source": [
    "#### What techniques would you use to evaluate performance?\n",
    "\n",
    "- There a number of performance metrics that we could consider i.e. accuracy, precision, recall, f-1 score. However, the one we select as our optimized metric will always depend on the data we are analyzing. We must refer to the confusion matrix to evaluate actual vs predicted values. For example, if I am an NFL agent and I want have to inform my client (the player) a projection of his potential draft status, precision is our preferred metric because in our model, false positives are worse than false negatives-- we don’t want to inform a player that they will get drafted and then they actually don’t. We want to be conservative and very sure in our recommendations to players, and want to avoid offering incorrect projections as much as possible. In most cases, we prefer accuracy as our optimized metric, as accuracy gives us the number of correct predictions in our model. We would likely use Accuracy as our optimized metric for our Activity model.\n",
    "- In terms of determining which of our feature variables have the most predictive power of our response variable, Accuracy, we can run our logistic regression model and evaluate the coefficients of each variable. Doing this will allow us to see which feature variables are of most statistical significant, as well as whic variables are either helping or hurting our model performance. This is also an opportunity for us to decide if we would like to make changes to our model and add or remove more feature variables."
   ]
  },
  {
   "cell_type": "markdown",
   "metadata": {},
   "source": [
    "#### If you were to undertake this project for real, what real life data would you utilize?\n",
    "\n",
    "- There are a number of directions we can go to aid our evaluation of Activity. As always, if we were given more data to work with, we might be able to more accurately predict Activity. For example, the amount of money the player spent and the players' income might give us a good idea of how much the player typically spends and how much they can afford to spend. It wouldn't be surprising to see players who have more money and spend more of that money are more likely to be more active than players who don't have a lot of money or don't spend a lot of money. This is an assumption, but it is a valid one to explore. It also wouldn't hurt to know the customer's history, as in how many days/months/years they have had an account. Also in terms of customer history, we would love to have data on past customer behavior, meaning number of transactions and how frequent those transactions are. Transaction frequency and recency would likely be one of the strongest predictors of future Activity. We would also benefit from knowing the amount of customer winnings and losses."
   ]
  },
  {
   "cell_type": "markdown",
   "metadata": {},
   "source": [
    "#### What else could we use the data for?\n",
    "\n",
    "- Referencing my answer from above, if given the amount of money the players spend, we can use that as our response variable. In this case, we can predict how much a player will spend in the future. We can also dive further into it and predict the total number and frequency of future transactions of a customer, and even determine what game the player will spend it on i.e. sports gambling or casino gambling. Lastly, we could predict customer future winnings and losses. These ideas would give us a very strong understanding of our customer base and help us to improve decision-making and strategic planning from a business perspective going forward."
   ]
  }
 ],
 "metadata": {
  "kernelspec": {
   "display_name": "Python 3",
   "language": "python",
   "name": "python3"
  },
  "language_info": {
   "codemirror_mode": {
    "name": "ipython",
    "version": 3
   },
   "file_extension": ".py",
   "mimetype": "text/x-python",
   "name": "python",
   "nbconvert_exporter": "python",
   "pygments_lexer": "ipython3",
   "version": "3.6.9"
  }
 },
 "nbformat": 4,
 "nbformat_minor": 2
}
